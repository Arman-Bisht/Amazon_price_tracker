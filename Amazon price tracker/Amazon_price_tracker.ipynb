{
  "cells": [
    {
      "cell_type": "code",
      "execution_count": null,
      "metadata": {
        "id": "pagv7pyzMq96"
      },
      "outputs": [],
      "source": [
        "import requests\n",
        "from bs4 import BeautifulSoup\n",
        "from lxml import etree as et\n",
        "import pandas as pd\n",
        "from twilio.rest import Client\n",
        "import sys\n",
        "\n",
        "header = {\n",
        "    \"User-Agent\": \"Mozilla/5.0 (Windows NT 10.0; Win64; x64) AppleWebKit/537.36 (KHTML, like Gecko) Chrome/81.0.4044.138 Safari/537.36\",\n",
        "    'Accept': '*/*', 'Accept-Encoding': 'gzip, deflate, br', 'Accept-Language': 'en-GB,en-US;q=0.9,en;q=0.8'\n",
        "}\n",
        "\n",
        "amazon_urls = ['https://www.amazon.in/Garmin-010-02064-00-Instinct-Monitoring-Graphite/dp/B07HYX9P88/',\n",
        "               'https://www.amazon.in/Rockerz-370-Headphone-Bluetooth-Lightweight/dp/B0856HRTJG/',\n",
        "               'https://www.amazon.in/Logitech-MK215-Wireless-Keyboard-Mouse/dp/B012MQS060/',\n",
        "               'https://www.amazon.in/Logitech-G512-Mechanical-Keyboard-Black/dp/B07BVCSRXL/',\n",
        "               'https://www.amazon.in/BenQ-inch-Bezel-Monitor-Built/dp/B073NTCT4R/'\n",
        "               ]\n",
        "\n",
        "\n",
        "def get_amazon_price(dom):\n",
        "    item_price = dom.xpath('//span[@class=\"a-offscreen\"]/text()')[0]\n",
        "    item_price = item_price.replace(',', '').replace('₹', '').replace('.00', '')\n",
        "    return int(item_price)\n",
        "\n",
        "\n",
        "def get_product_name(dom):\n",
        "    name = dom.xpath('//span[@id=\"productTitle\"]/text()')\n",
        "    [name.strip() for name in name]\n",
        "    return name[0]\n",
        "\n",
        "\n",
        "def get_master_price(url):\n",
        "    for row in df.itertuples():\n",
        "        if row.url == url:\n",
        "            return row.price\n",
        "    return None\n",
        "\n",
        "\n",
        "price_drop_products = []\n",
        "price_drop_list_url = []\n",
        "\n",
        "for product_url in amazon_urls:\n",
        "\n",
        "    response = requests.get(product_url, headers=header)\n",
        "    soup = BeautifulSoup(response.content, 'html.parser')\n",
        "    main_dom = et.HTML(str(soup))\n",
        "\n",
        "    price = get_amazon_price(main_dom)\n",
        "    product_name = get_product_name(main_dom)\n",
        "    df = pd.read_csv('new_master_Data.csv')\n",
        "\n",
        "    if price < get_master_price(product_url):\n",
        "        change_percentage = round((get_master_price(product_url) - price) * 100 / get_master_price(product_url)) #checking if what percentage of price changed\n",
        "\n",
        "        if change_percentage > 10:\n",
        "            print(' There is a {}'.format(change_percentage), '% drop in price for {}'.format(product_name))\n",
        "            print('Click here to purchase {}'.format(product_url))\n",
        "            price_drop_products.append(product_name)\n",
        "            price_drop_list_url.append(product_url)\n",
        "\n",
        "if len(price_drop_products) == 0: #if no price changes found - the program needs to exit\n",
        "    sys.exit('No Price drop found')\n",
        "\n",
        "messege = \"There is a drop in price for {}\".format(len(price_drop_products)) + \" products.\" + \"Click to purchase\" #sms content\n",
        "\n",
        "for items in price_drop_list_url:\n",
        "    messege = messege + \"\\n\" + items\n",
        "\n",
        "account_sid = 'Add your account sid'\n",
        "auth_token = 'Add your auth token'\n",
        "\n",
        "client = Client(account_sid, auth_token)\n",
        "message = client.messages.create(\n",
        "    from_='Add your twilio phone number',\n",
        "    body=messege,\n",
        "    to='Add your personal phone number'\n",
        ")\n",
        "sys.exit('Price drop found')"
      ]
    }
  ],
  "metadata": {
    "colab": {
      "name": "Amazon_price_tracker.ipynb",
      "provenance": []
    },
    "kernelspec": {
      "display_name": "Python 3.10.4 64-bit",
      "language": "python",
      "name": "python3"
    },
    "language_info": {
      "name": "python",
      "version": "3.10.4"
    },
    "vscode": {
      "interpreter": {
        "hash": "6f21bb2d5c565dbc33d815445cee0d4e3f2f7951520fd8c0e3b4200672f41bfe"
      }
    }
  },
  "nbformat": 4,
  "nbformat_minor": 0
}
