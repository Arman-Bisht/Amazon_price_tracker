{
  "cells": [
    {
      "cell_type": "code",
      "execution_count": null,
      "metadata": {
        "id": "0ZlCLAUoL8E7"
      },
      "outputs": [],
      "source": [
        "import requests\n",
        "from bs4 import BeautifulSoup\n",
        "from lxml import etree as et\n",
        "import time\n",
        "import random\n",
        "import csv\n",
        "\n",
        "header = {\n",
        "    \"User-Agent\": \"Mozilla/5.0 (Windows NT 10.0; Win64; x64) AppleWebKit/537.36 (KHTML, like Gecko) Chrome/81.0.4044.138 Safari/537.36\",\n",
        "    'Accept': '*/*', 'Accept-Encoding': 'gzip, deflate, br', 'Accept-Language': 'en-GB,en-US;q=0.9,en;q=0.8'\n",
        "}\n",
        "\n",
        "bucket_list = ['https://www.amazon.in/Garmin-010-02064-00-Instinct-Monitoring-Graphite/dp/B07HYX9P88/',\n",
        "               'https://www.amazon.in/Rockerz-370-Headphone-Bluetooth-Lightweight/dp/B0856HRTJG/',\n",
        "               'https://www.amazon.in/Logitech-MK215-Wireless-Keyboard-Mouse/dp/B012MQS060/',\n",
        "               'https://www.amazon.in/Logitech-G512-Mechanical-Keyboard-Black/dp/B07BVCSRXL/',\n",
        "               'https://www.amazon.in/BenQ-inch-Bezel-Monitor-Built/dp/B073NTCT4R/'\n",
        "               ]\n",
        "\n",
        "\n",
        "def get_amazon_price(dom):\n",
        "\n",
        "    try:\n",
        "        price = dom.xpath('//span[@class=\"a-offscreen\"]/text()')[0]\n",
        "        price = price.replace(',', '').replace('₹', '').replace('.00', '')\n",
        "        return int(price)\n",
        "    except Exception as e:\n",
        "        price = 'Not Available'\n",
        "        return None\n",
        "\n",
        "\n",
        "def get_product_name(dom):\n",
        "    try:\n",
        "        name = dom.xpath('//span[@id=\"productTitle\"]/text()')\n",
        "        [name.strip() for name in name]\n",
        "        return name[0]\n",
        "    except Exception as e:\n",
        "        name = 'Not Available'\n",
        "        return None\n",
        "\n",
        "# write data into a csv file\n",
        "\n",
        "with open('master_data.csv', 'w') as csv_file:\n",
        "    writer = csv.writer(csv_file)\n",
        "    writer.writerow(['product name', 'price', 'url'])\n",
        "\n",
        "    for url in bucket_list:\n",
        "        response = requests.get(url, headers=header)\n",
        "        soup = BeautifulSoup(response.content, 'html.parser')\n",
        "        amazon_dom = et.HTML(str(soup))\n",
        "\n",
        "        product_name = get_product_name(amazon_dom)\n",
        "        product_price = get_amazon_price(amazon_dom)\n",
        "\n",
        "        time.sleep(random.randint(2, 10))\n",
        "\n",
        "        writer.writerow([product_name, product_price, url])\n",
        "        print(product_name, product_price, url)"
      ]
    }
  ],
  "metadata": {
    "colab": {
      "name": "amazon_master_data_extractor.ipynb",
      "provenance": []
    },
    "kernelspec": {
      "display_name": "Python 3.10.4 64-bit",
      "language": "python",
      "name": "python3"
    },
    "language_info": {
      "name": "python",
      "version": "3.10.4"
    },
    "vscode": {
      "interpreter": {
        "hash": "6f21bb2d5c565dbc33d815445cee0d4e3f2f7951520fd8c0e3b4200672f41bfe"
      }
    }
  },
  "nbformat": 4,
  "nbformat_minor": 0
}
