{
  "cells": [
    {
      "cell_type": "code",
      "execution_count": null,
      "metadata": {
        "id": "pVQSVZv1Nk8I"
      },
      "outputs": [],
      "source": [
        "import schedule\n",
        "import time\n",
        "from os import system\n",
        "\n",
        "def job():\n",
        "    system(\"python3 Amazon_price_tracker.py\")\n",
        "\n",
        "\n",
        "schedule.every(1).hours.do(job)\n",
        "\n",
        "while True:\n",
        "    schedule.run_pending()\n",
        "    time.sleep(1)"
      ]
    }
  ],
  "metadata": {
    "colab": {
      "name": "price_tracker_scheduler.ipynb",
      "provenance": []
    },
    "kernelspec": {
      "display_name": "Python 3.10.4 64-bit",
      "language": "python",
      "name": "python3"
    },
    "language_info": {
      "name": "python",
      "version": "3.10.4"
    },
    "vscode": {
      "interpreter": {
        "hash": "6f21bb2d5c565dbc33d815445cee0d4e3f2f7951520fd8c0e3b4200672f41bfe"
      }
    }
  },
  "nbformat": 4,
  "nbformat_minor": 0
}
